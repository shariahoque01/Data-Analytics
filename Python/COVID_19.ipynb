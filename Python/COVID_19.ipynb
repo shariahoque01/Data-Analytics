{
  "nbformat": 4,
  "nbformat_minor": 0,
  "metadata": {
    "colab": {
      "name": "COVID-19.ipynb",
      "provenance": [],
      "collapsed_sections": []
    },
    "kernelspec": {
      "name": "python3",
      "display_name": "Python 3"
    }
  },
  "cells": [
    {
      "cell_type": "markdown",
      "metadata": {
        "id": "YdolZhh1GFnf"
      },
      "source": [
        "COVID-19 database of the United States's 50 states:\r\n",
        "This table includes:\r\n",
        " date(start from 2020-01-21), \r\n",
        " county,\r\n",
        " state,\r\n",
        " fips,\r\n",
        " cases,\r\n",
        " deaths."
      ]
    },
    {
      "cell_type": "code",
      "metadata": {
        "id": "7kSJc2BxXaOE"
      },
      "source": [
        "# TASK 1 : \r\n",
        "import numpy as np\r\n",
        "import pandas as pd\r\n",
        "df = pd.read_csv ('https://raw.githubusercontent.com/nytimes/covid-19-data/master/us-counties.csv')\r\n",
        "df"
      ],
      "execution_count": null,
      "outputs": []
    },
    {
      "cell_type": "markdown",
      "metadata": {
        "id": "JCkQ0x6DTzEz"
      },
      "source": [
        "General informations of every state's fips, cases, deaths.\r\n",
        "Informations contain: count, mean, std, min, 25%, 50%, 75%, max."
      ]
    },
    {
      "cell_type": "code",
      "metadata": {
        "id": "OkVZEzlSjlOD"
      },
      "source": [
        "df.describe()"
      ],
      "execution_count": null,
      "outputs": []
    },
    {
      "cell_type": "code",
      "metadata": {
        "id": "_yeYWLEQll--"
      },
      "source": [
        "df['cases'].count()"
      ],
      "execution_count": null,
      "outputs": []
    },
    {
      "cell_type": "markdown",
      "metadata": {
        "id": "0G_7xYRc-kAB"
      },
      "source": [
        " *Average number of Deaths and Cases of each state.(everyday)*\r\n",
        "\r\n",
        "\r\n",
        "*   New Jersy has the highest average deaths(607) and Northern Mariana Islands has the loweset average deaths (1)\r\n",
        "\r\n",
        "*  District of Columbia has the highest average cases(13118) Northern Mariana Islands\thas the lowest average cases (34)\r\n",
        "\r\n"
      ]
    },
    {
      "cell_type": "code",
      "metadata": {
        "id": "77gV1IYIqAsy"
      },
      "source": [
        "#df.groupby(['county'])['cases'].mean().sort_values(ascending = False)\r\n",
        "df.groupby('state').agg({'cases':'mean', 'deaths':'mean'})"
      ],
      "execution_count": null,
      "outputs": []
    },
    {
      "cell_type": "markdown",
      "metadata": {
        "id": "mYA45bFOQeJA"
      },
      "source": [
        "Data for only New York state:\r\n",
        "\r\n",
        "\r\n",
        "*   The highest number of cases is 524231 and the highest number of deaths is 25970\r\n",
        "*   The average of cases is 8122 and the average of numbers is 504\r\n",
        "\r\n",
        "\r\n",
        "\r\n",
        "\r\n"
      ]
    },
    {
      "cell_type": "code",
      "metadata": {
        "id": "f_paNPF5sR5r"
      },
      "source": [
        "#df[df['state']=='New York']"
      ],
      "execution_count": 54,
      "outputs": []
    },
    {
      "cell_type": "code",
      "metadata": {
        "id": "7Xp88vAgFIPw"
      },
      "source": [
        "df2= df[df['state']=='New York']\r\n",
        "df2"
      ],
      "execution_count": null,
      "outputs": []
    },
    {
      "cell_type": "markdown",
      "metadata": {
        "id": "sjqDuKg4xvxB"
      },
      "source": [
        "General informations of New York state's fips, cases, deaths.\r\n",
        "Informations contain: count, mean, std, min, 25%, 50%, 75%, max."
      ]
    },
    {
      "cell_type": "code",
      "metadata": {
        "id": "zjcxg-r3x0dj"
      },
      "source": [
        "df2.describe()"
      ],
      "execution_count": null,
      "outputs": []
    },
    {
      "cell_type": "markdown",
      "metadata": {
        "id": "SumKdlWpssiQ"
      },
      "source": [
        "New York State's fips average:"
      ]
    },
    {
      "cell_type": "code",
      "metadata": {
        "id": "j4SiAfP5swif"
      },
      "source": [
        "df2.mean()"
      ],
      "execution_count": null,
      "outputs": []
    },
    {
      "cell_type": "markdown",
      "metadata": {
        "id": "tm12iSB8snwn"
      },
      "source": [
        "Replacing New York State's Fips (NaN) value with its mean (36063)"
      ]
    },
    {
      "cell_type": "code",
      "metadata": {
        "id": "sK22e8ajs9hU"
      },
      "source": [
        "df2['fips'].fillna(36063,inplace=True)\r\n",
        "df2"
      ],
      "execution_count": null,
      "outputs": []
    },
    {
      "cell_type": "code",
      "metadata": {
        "id": "BOYHGMQ47QFn"
      },
      "source": [
        "df2.plot(kind='scatter', x= 'cases', y= 'deaths')"
      ],
      "execution_count": null,
      "outputs": []
    },
    {
      "cell_type": "markdown",
      "metadata": {
        "id": "WYLv1yJ_uNVe"
      },
      "source": [
        "New York State's last 30 days cases:\r\n",
        "\r\n",
        "\r\n",
        "*   In last 30 days, New York state's average cases are 13656\r\n",
        "*   In last 30 days, New York state's highest cases are 19560\r\n",
        "*   In last 30 days, New York state's lowest cases are 8205\r\n",
        "\r\n",
        "\r\n",
        "\r\n"
      ]
    },
    {
      "cell_type": "code",
      "metadata": {
        "id": "4Wy0U1wRukHp"
      },
      "source": [
        "df['date'] = pd.to_datetime(df['date'])\r\n",
        "\r\n",
        "df_daily_state = df.groupby(['date','state'])['cases'].sum().unstack()\r\n",
        "\r\n",
        "daily_new_cases_NY = df_daily_state.diff()['New York']\r\n",
        "\r\n",
        "df_NY_cases = daily_new_cases_NY.iloc[-30:]\r\n",
        "df_NY_cases\r\n"
      ],
      "execution_count": null,
      "outputs": []
    },
    {
      "cell_type": "code",
      "metadata": {
        "id": "0QtsNC8GuqON"
      },
      "source": [
        "df_NY_cases.min()"
      ],
      "execution_count": null,
      "outputs": []
    },
    {
      "cell_type": "markdown",
      "metadata": {
        "id": "T6zqxJkn8QEb"
      },
      "source": [
        "New York State's Last 30 days of cases graph"
      ]
    },
    {
      "cell_type": "code",
      "metadata": {
        "id": "sk-nUHUC6AAy"
      },
      "source": [
        "#df['date'] = pd.to_datetime(df['date'])\r\n",
        "\r\n",
        "#df_daily_state = df.groupby(['date','state'])['cases'].sum().unstack()\r\n",
        "\r\n",
        "#daily_new_cases_NY = df_daily_state.diff()['New York']\r\n",
        "\r\n",
        "ax = daily_new_cases_NY.iloc[-30:].plot.bar(title='Last 30 days New York New Cases')"
      ],
      "execution_count": null,
      "outputs": []
    },
    {
      "cell_type": "markdown",
      "metadata": {
        "id": "5koqqHMa1Ge3"
      },
      "source": [
        "New York State's last 30 days deaths:\r\n",
        "\r\n",
        "\r\n",
        "*   In last 30 days, New York state's average deaths are 158\r\n",
        "*   In last 30 days, New York state's highest deaths are 237\r\n",
        "*   In last 30 days, New York state's lowest deaths are 118\r\n",
        "\r\n",
        "\r\n",
        "\r\n"
      ]
    },
    {
      "cell_type": "code",
      "metadata": {
        "id": "EkAtxMoU1dX_"
      },
      "source": [
        "df['date'] = pd.to_datetime(df['date'])\r\n",
        "\r\n",
        "df_daily_state = df.groupby(['date','state'])['deaths'].sum().unstack()\r\n",
        "\r\n",
        "daily_new_deaths_NY = df_daily_state.diff()['New York']\r\n",
        "\r\n",
        "df_NY_deaths = daily_new_deaths_NY.iloc[-30:]\r\n",
        "df_NY_deaths\r\n"
      ],
      "execution_count": null,
      "outputs": []
    },
    {
      "cell_type": "code",
      "metadata": {
        "id": "fRh_07CQ1qvU"
      },
      "source": [
        "df_NY_deaths.max()"
      ],
      "execution_count": null,
      "outputs": []
    },
    {
      "cell_type": "markdown",
      "metadata": {
        "id": "rybYPXsy2Gn8"
      },
      "source": [
        "New York State's Last 30 days of deaths graph"
      ]
    },
    {
      "cell_type": "code",
      "metadata": {
        "id": "jiZR2gJR2OcZ"
      },
      "source": [
        "df['date'] = pd.to_datetime(df['date'])\r\n",
        "\r\n",
        "df_daily_state = df.groupby(['date','state'])['deaths'].sum().unstack()\r\n",
        "\r\n",
        "daily_new_deaths_NY = df_daily_state.diff()['New York']\r\n",
        "\r\n",
        "ax = daily_new_deaths_NY.iloc[-30:].plot.bar(title='Last 30 days New York New deaths')"
      ],
      "execution_count": null,
      "outputs": []
    },
    {
      "cell_type": "code",
      "metadata": {
        "id": "Np2FWHMUPSFg"
      },
      "source": [
        "import seaborn as sns\r\n",
        "import pandas as pd\r\n",
        "import numpy as np\r\n",
        "import matplotlib.pyplot as plt\r\n",
        "%matplotlib inline\r\n"
      ],
      "execution_count": 135,
      "outputs": []
    },
    {
      "cell_type": "markdown",
      "metadata": {
        "id": "pMiGs5AczV0L"
      },
      "source": [
        "Graphs of Deaths and Cases for every states:"
      ]
    },
    {
      "cell_type": "code",
      "metadata": {
        "id": "wpcga-wYgbGh"
      },
      "source": [
        "#palette='RdBu_r'\n",
        "#g = sns.PairGrid(df, vars=[ 'cases', 'deaths'],\n",
        "                 #hue='state', palette='deep')\n",
        "#g.map(plt.scatter, alpha=0.8)\n",
        "#g.add_legend();"
      ],
      "execution_count": null,
      "outputs": []
    },
    {
      "cell_type": "markdown",
      "metadata": {
        "id": "RJSqNyKIi0B8"
      },
      "source": [
        "Another state California: \r\n",
        "According to the article, \"Total number of U.S. coronavirus (COVID-19) cases as of January 15, 2021\", California has the highest covid-19 cases\r\n",
        "\r\n",
        "\r\n",
        "https://www.statista.com/statistics/1102807/coronavirus-covid19-cases-number-us-americans-by-state/\r\n",
        "\r\n",
        "\r\n",
        "In California:\r\n",
        "\r\n",
        "*   The highest number of cases is 1004322 and the highest number of deaths is 13741.\r\n",
        "*   The average number of cases is 12272 and the average death is 199.\r\n",
        "\r\n"
      ]
    },
    {
      "cell_type": "code",
      "metadata": {
        "id": "60fLwpEwiURm"
      },
      "source": [
        "df3= df[df['state']=='California']\r\n",
        "df3"
      ],
      "execution_count": null,
      "outputs": []
    },
    {
      "cell_type": "code",
      "metadata": {
        "id": "qAHzLhr2i5al"
      },
      "source": [
        "df3.max()"
      ],
      "execution_count": null,
      "outputs": []
    },
    {
      "cell_type": "code",
      "metadata": {
        "id": "hdix7OeIjshk"
      },
      "source": [
        "df3.mean()\r\n"
      ],
      "execution_count": null,
      "outputs": []
    },
    {
      "cell_type": "code",
      "metadata": {
        "id": "5nP0M1N26ikr"
      },
      "source": [
        "df3.plot(kind='scatter', x= 'cases', y= 'deaths')"
      ],
      "execution_count": null,
      "outputs": []
    },
    {
      "cell_type": "markdown",
      "metadata": {
        "id": "Ns9Zixz4w4QL"
      },
      "source": [
        "Another state Texas: \r\n",
        "According to the article, \"Total number of U.S. coronavirus (COVID-19) cases as of January 15, 2021\", Texas has the second highest covid-19 cases:\r\n",
        "\r\n",
        "\r\n",
        "https://www.statista.com/statistics/1102807/coronavirus-covid19-cases-number-us-americans-by-state/\r\n",
        "\r\n",
        "\r\n",
        "In Texas:\r\n",
        "*   The highest number of cases is 28144 and the highest number of deaths is 3777.\r\n",
        "*   The average number of cases is 2691 and the average death is 48.\r\n",
        "\r\n"
      ]
    },
    {
      "cell_type": "code",
      "metadata": {
        "id": "6sZv83iUxGrw"
      },
      "source": [
        "df4= df[df['state']=='Texas']\r\n",
        "df4"
      ],
      "execution_count": null,
      "outputs": []
    },
    {
      "cell_type": "code",
      "metadata": {
        "id": "A2m8ZV15xd3j"
      },
      "source": [
        "df4.describe()"
      ],
      "execution_count": null,
      "outputs": []
    },
    {
      "cell_type": "code",
      "metadata": {
        "id": "GizVTaBfxhda"
      },
      "source": [
        "df4.mean()"
      ],
      "execution_count": null,
      "outputs": []
    },
    {
      "cell_type": "code",
      "metadata": {
        "id": "xPYK3jFw3JH9"
      },
      "source": [
        "df4.plot(kind='scatter', x= 'cases', y= 'deaths')"
      ],
      "execution_count": null,
      "outputs": []
    },
    {
      "cell_type": "markdown",
      "metadata": {
        "id": "zzrDuNtf6SQ-"
      },
      "source": [
        "**Final Conclusion**\r\n",
        "\r\n",
        "* From the informations above, even \r\n",
        "though California has the highest average of cases of 12272, it's average deaths number (199) is lower than New York state's average deaths' number (504). The Texas has the lowest average cases(2691) and death(48) among these three states.\r\n",
        "\r\n",
        "*  From three states, above graphs, all of them, scatter plots are postive linear, which means as the cases increase the number of deaths also increase. \r\n",
        "* The New York state's scatter plot (positive linear) is more stepper than the California's. This means the deaths numbers (based on cases) are more compared to California's death number.\r\n",
        "\r\n",
        "* The scatter plot for New York state and California become less stepper after 2.5 million cases. This means after 2.5 millions cases, the deaths start to decrease in New York and the California.\r\n",
        "\r\n",
        "* The Texas scatter plot is also less stepper and after 1 million cases, the deaths number starts decrease more.\r\n"
      ]
    }
  ]
}