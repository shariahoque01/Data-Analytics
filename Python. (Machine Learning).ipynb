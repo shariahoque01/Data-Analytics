{
  "nbformat": 4,
  "nbformat_minor": 0,
  "metadata": {
    "colab": {
      "name": "Unit4 Mini Project (Machine Learning).ipynb",
      "provenance": [],
      "authorship_tag": "ABX9TyPPXWXk8P5rhwm9XOhEKqvh",
      "include_colab_link": true
    },
    "kernelspec": {
      "name": "python3",
      "display_name": "Python 3"
    }
  },
  "cells": [
    {
      "cell_type": "markdown",
      "metadata": {
        "id": "view-in-github",
        "colab_type": "text"
      },
      "source": [
        "<a href=\"https://colab.research.google.com/github/shariahoque01/data_analytics-/blob/main/Python.%20(Machine%20Learning).ipynb\" target=\"_parent\"><img src=\"https://colab.research.google.com/assets/colab-badge.svg\" alt=\"Open In Colab\"/></a>"
      ]
    },
    {
      "cell_type": "markdown",
      "metadata": {
        "id": "NOLVp4vr-Uft"
      },
      "source": [
        "classificaion model- logistic regression.(choose output, input). "
      ]
    },
    {
      "cell_type": "code",
      "metadata": {
        "collapsed": true,
        "id": "PnrlTHw_LPQ4"
      },
      "source": [
        "#Standard Libraries for visualization and data wrangling \r\n",
        "\r\n",
        "import pandas as pd\r\n",
        "import numpy as np\r\n",
        "import matplotlib as plt\r\n",
        "import seaborn as sns; sns.set()\r\n",
        "%matplotlib inline\r\n",
        "sns.set_style('whitegrid')\r\n",
        "\r\n",
        "#Logistic Regression Models\r\n",
        "\r\n",
        "from sklearn.model_selection import train_test_split\r\n",
        "from sklearn.preprocessing import StandardScaler\r\n",
        "from sklearn.linear_model import LogisticRegression\r\n",
        "from sklearn.metrics import classification_report, confusion_matrix\r\n",
        "\r\n",
        "%matplotlib inline"
      ],
      "execution_count": 21,
      "outputs": []
    },
    {
      "cell_type": "markdown",
      "metadata": {
        "id": "DdBUkOqqFLIb"
      },
      "source": [
        "#Get The Data"
      ]
    },
    {
      "cell_type": "code",
      "metadata": {
        "id": "Z9S9kANE-41H"
      },
      "source": [
        "hospital= pd.read_csv('https://raw.githubusercontent.com/buildwelllabs/machine.learning.project/master/diabetic_data.csv')\r\n",
        "hospital"
      ],
      "execution_count": null,
      "outputs": []
    },
    {
      "cell_type": "code",
      "metadata": {
        "id": "NY9-2yjoFUkD"
      },
      "source": [
        "hospital.head(20)"
      ],
      "execution_count": null,
      "outputs": []
    },
    {
      "cell_type": "code",
      "metadata": {
        "id": "aFzz7vTNGPUa"
      },
      "source": [
        "hospital.info()"
      ],
      "execution_count": null,
      "outputs": []
    },
    {
      "cell_type": "code",
      "metadata": {
        "id": "EDbG-u1_GVrF"
      },
      "source": [
        "hospital.describe()"
      ],
      "execution_count": null,
      "outputs": []
    },
    {
      "cell_type": "code",
      "metadata": {
        "id": "3MtUaYPVR310"
      },
      "source": [
        "#1\r\n",
        "hospital.groupby(['metformin'])['readmitted'].count().sort_values(ascending=False)"
      ],
      "execution_count": null,
      "outputs": []
    },
    {
      "cell_type": "code",
      "metadata": {
        "id": "EypX5D2cSnUz"
      },
      "source": [
        "#hospital.groupby(['glipizide'])['readmitted'].count().sort_values(ascending=False)\r\n"
      ],
      "execution_count": null,
      "outputs": []
    },
    {
      "cell_type": "code",
      "metadata": {
        "id": "vX6FaugpTGnE"
      },
      "source": [
        "#2\r\n",
        "hospital.groupby(['insulin'])['readmitted'].count().sort_values(ascending=False)"
      ],
      "execution_count": null,
      "outputs": []
    },
    {
      "cell_type": "code",
      "metadata": {
        "id": "MN2t1fj8UDvf"
      },
      "source": [
        "#3\r\n",
        "hospital.groupby(['time_in_hospital'])['readmitted'].count().sort_values(ascending=False)"
      ],
      "execution_count": null,
      "outputs": []
    },
    {
      "cell_type": "code",
      "metadata": {
        "id": "Sg_kFea6VoUP"
      },
      "source": [
        "#4\r\n",
        "hospital.groupby(['diabetesMed'])['readmitted'].count().sort_values(ascending=False)"
      ],
      "execution_count": null,
      "outputs": []
    },
    {
      "cell_type": "code",
      "metadata": {
        "id": "emhi8N_lV5Ea"
      },
      "source": [
        "#5\r\n",
        "hospital.groupby(['change'])['readmitted'].count().sort_values(ascending=False)"
      ],
      "execution_count": null,
      "outputs": []
    },
    {
      "cell_type": "code",
      "metadata": {
        "id": "a1cSP7xjWdWF"
      },
      "source": [
        "#6\r\n",
        "hospital.groupby(['age'])['readmitted'].count().sort_values(ascending=False)"
      ],
      "execution_count": null,
      "outputs": []
    },
    {
      "cell_type": "code",
      "metadata": {
        "id": "0VuNuuzxWxQt"
      },
      "source": [
        "#7\r\n",
        "hospital.groupby(['num_medications'])['readmitted'].count().sort_values(ascending=False)"
      ],
      "execution_count": null,
      "outputs": []
    },
    {
      "cell_type": "code",
      "metadata": {
        "id": "CJuyNw-PXMAN"
      },
      "source": [
        "#8\r\n",
        "hospital.groupby(['number_diagnoses'])['readmitted'].count().sort_values(ascending=False)"
      ],
      "execution_count": null,
      "outputs": []
    },
    {
      "cell_type": "markdown",
      "metadata": {
        "id": "VQGLcmaxGhqV"
      },
      "source": [
        "#Exploratory Data Analysis"
      ]
    },
    {
      "cell_type": "code",
      "metadata": {
        "id": "0QE1rpe8LPQ-"
      },
      "source": [
        "#sns.set_style(\"whitegrid\") \r\n",
        "#sns.distplot(hospital['change'].dropna(), kde=False, color='darkblue',bins=30)"
      ],
      "execution_count": null,
      "outputs": []
    },
    {
      "cell_type": "code",
      "metadata": {
        "id": "-_YT3dyfLPQ_"
      },
      "source": [
        "sns.set_style(\"whitegrid\") \r\n",
        "sns.jointplot(x='time_in_hospital', y='age', data=hospital)"
      ],
      "execution_count": null,
      "outputs": []
    },
    {
      "cell_type": "code",
      "metadata": {
        "id": "v8Xe7FPGLPRA"
      },
      "source": [
        "sns.set_style(\"whitegrid\") \r\n",
        "sns.jointplot(x='metformin', y='insulin', data=hospital,  color=\"green\")"
      ],
      "execution_count": null,
      "outputs": []
    },
    {
      "cell_type": "code",
      "metadata": {
        "id": "fJm2pNqUldSa"
      },
      "source": [
        "sns.set_style('whitegrid')\r\n",
        "sns.countplot(x='readmitted', data=hospital)"
      ],
      "execution_count": null,
      "outputs": []
    },
    {
      "cell_type": "code",
      "metadata": {
        "id": "fU-n7WUOl1AC"
      },
      "source": [
        "sns.set_style('whitegrid')\r\n",
        "sns.countplot(x='readmitted', hue='age', data=hospital)"
      ],
      "execution_count": null,
      "outputs": []
    },
    {
      "cell_type": "code",
      "metadata": {
        "id": "bHSnFWHtl8cH"
      },
      "source": [
        "sns.set_style('whitegrid')\r\n",
        "sns.countplot(x='readmitted', hue='race', data=hospital)"
      ],
      "execution_count": null,
      "outputs": []
    },
    {
      "cell_type": "code",
      "metadata": {
        "id": "urxphWeMPvIg"
      },
      "source": [
        "#metformin, 24, 30, 41, "
      ],
      "execution_count": null,
      "outputs": []
    },
    {
      "cell_type": "code",
      "metadata": {
        "id": "OufUkIQuZrzz"
      },
      "source": [
        ""
      ],
      "execution_count": null,
      "outputs": []
    },
    {
      "cell_type": "markdown",
      "metadata": {
        "id": "l9wkhQr3nl8i"
      },
      "source": [
        "# Data Cleaning and Data Pre - Processing"
      ]
    },
    {
      "cell_type": "code",
      "metadata": {
        "id": "FnkGV6agon2G"
      },
      "source": [
        "hospital.drop('race', axis=1, inplace= True)"
      ],
      "execution_count": 24,
      "outputs": []
    },
    {
      "cell_type": "code",
      "metadata": {
        "id": "uk_4UeRjvFVb"
      },
      "source": [
        "#hospital.drop(['encounter_id',\t'patient_nbr','weight','admission_type_id',\t'discharge_disposition_id',\t'admission_source_id','payer_code',\t'medical_specialty',\t'num_lab_procedures',\t'num_procedures','number_outpatient',\t'number_emergency',\t'number_inpatient',\t'diag_1',\t'diag_2',\t'diag_3',\t'number_diagnoses',\t'max_glu_serum',\t'A1Cresult','repaglinide',\t'nateglinide','chlorpropamide',\t'glimepiride','acetohexamide','glipizide','glyburide','tolbutamide','pioglitazone','rosiglitazone',\t'acarbose',\t'miglitol',\t'troglitazone',\t'tolazamide',\t'examide',\t'citoglipton','glyburide-metformin','glipizide-metformin','glimepiride-pioglitazone',\t'metformin-rosiglitazone',\t'metformin-pioglitazone',\t], axis=1, inplace= True)"
      ],
      "execution_count": 7,
      "outputs": []
    },
    {
      "cell_type": "code",
      "metadata": {
        "id": "khGexyrOraZH"
      },
      "source": [
        "hospital.dropna(inplace=True)"
      ],
      "execution_count": 25,
      "outputs": []
    },
    {
      "cell_type": "code",
      "metadata": {
        "id": "RUh8fi7rx5F2"
      },
      "source": [
        "#Age = pd.get_dummies(hospital['age'], drop_first=True)\r\n",
        "#Insulin= pd.get_dummies(hospital['insulin'],drop_first= True)\r\n",
        "#Weight= pd.(hospital['weight'],drop_first=True)\r\n",
        "#Race = pd.get_dummies(hospital['race'], drop_first=True)\r\n",
        "#Insulin= pd.get_dummies(hospital['insulin'],drop_first= True)\r\n"
      ],
      "execution_count": null,
      "outputs": []
    },
    {
      "cell_type": "code",
      "metadata": {
        "id": "1jcZHjT76rB5"
      },
      "source": [
        "#hospital['age']"
      ],
      "execution_count": null,
      "outputs": []
    },
    {
      "cell_type": "code",
      "metadata": {
        "id": "rIn3J8qhx3Os"
      },
      "source": [
        "#time_in_hospital\tnum_medications\tmetformin\tinsulin\tchange\tdiabetesMed\treadmitted"
      ],
      "execution_count": null,
      "outputs": []
    },
    {
      "cell_type": "code",
      "metadata": {
        "id": "7IZWmaNRGGFO"
      },
      "source": [
        "#Gender = pd.get_dummies(hospital['gender'], drop_first=True)\r\n"
      ],
      "execution_count": 355,
      "outputs": []
    },
    {
      "cell_type": "code",
      "metadata": {
        "id": "0t8QlTh0oAgZ"
      },
      "source": [
        "hospital.drop(['encounter_id','patient_nbr', 'gender','weight','admission_type_id',\t'discharge_disposition_id',\t'admission_source_id','payer_code',\t'medical_specialty',\t'num_lab_procedures',\t'num_procedures','number_outpatient',\t'number_emergency',\t'number_inpatient',\t'diag_1',\t'diag_2',\t'diag_3',\t'number_diagnoses',\t'max_glu_serum',\t'A1Cresult','repaglinide',\t'nateglinide','chlorpropamide',\t'glimepiride','acetohexamide','glipizide','glyburide','tolbutamide','pioglitazone','rosiglitazone',\t'acarbose',\t'miglitol',\t'troglitazone',\t'tolazamide',\t'examide',\t'citoglipton','glyburide-metformin','glipizide-metformin','glimepiride-pioglitazone',\t'metformin-rosiglitazone',\t'metformin-pioglitazone'], axis=1, inplace= True)"
      ],
      "execution_count": 26,
      "outputs": []
    },
    {
      "cell_type": "code",
      "metadata": {
        "id": "qddrkLqScBo5"
      },
      "source": [
        "hospital.tail()"
      ],
      "execution_count": null,
      "outputs": []
    },
    {
      "cell_type": "code",
      "metadata": {
        "id": "9KELRSw8oS9Q"
      },
      "source": [
        "hospital['age']= hospital['age'].replace(['[0-10)','[10-20)','[20-30)','[30-40)','[40-50)','[50-60)','[60-70)','[70-80)','[80-90)','[90-100)'], [0,1,2,3,4,5,6,7,8,9])\r\n",
        "hospital['metformin']= hospital['insulin'].replace(['Steady','Down','Up','No'], ['2','1','3','0'])\r\n",
        "hospital['insulin']= hospital['insulin'].replace(['Steady','Down','Up','No'], ['2','1','3','0'])\r\n",
        "hospital['change']= hospital['insulin'].replace(['Ch','No'], ['1','0'])\r\n",
        "hospital['diabetesMed']= hospital['diabetesMed'].replace(['Yes','No'], ['1','0'])\r\n",
        "hospital['readmitted']= hospital['readmitted'].replace(['>30','<30','NO'], [1,2,0])\r\n",
        "\r\n",
        "#hospital['age']= hospital['age'].astype(int)\r\n",
        "hospital['metformin']=hospital['metformin'].astype(int)\r\n",
        "hospital['insulin']=hospital['insulin'].astype(int)\r\n",
        "hospital['change']=hospital['change'].astype(int)\r\n",
        "hospital['diabetesMed']=hospital['diabetesMed'].astype(int)\r\n",
        "hospital['readmitted']=hospital['readmitted'].astype(int)"
      ],
      "execution_count": 28,
      "outputs": []
    },
    {
      "cell_type": "code",
      "metadata": {
        "id": "Z-2Fd9QjG9hx"
      },
      "source": [
        "hospital.info()"
      ],
      "execution_count": null,
      "outputs": []
    },
    {
      "cell_type": "markdown",
      "metadata": {
        "id": "AKhcmbL6o7xI"
      },
      "source": [
        "# Model building"
      ]
    },
    {
      "cell_type": "code",
      "metadata": {
        "id": "kK0p1rNOf7ti"
      },
      "source": [
        "ds= hospital"
      ],
      "execution_count": 30,
      "outputs": []
    },
    {
      "cell_type": "code",
      "metadata": {
        "collapsed": true,
        "id": "TRnDGIprLPRC"
      },
      "source": [
        "y = ds['readmitted']\r\n",
        "X = ds[['age','time_in_hospital','num_medications','metformin','insulin','change','diabetesMed']]"
      ],
      "execution_count": 35,
      "outputs": []
    },
    {
      "cell_type": "code",
      "metadata": {
        "collapsed": true,
        "id": "FE2-1rd4LPRB"
      },
      "source": [
        "X_train, X_test, y_train, y_test = train_test_split(hospital.drop('readmitted',axis=1),hospital['readmitted'],test_size=0.3, random_state=101)"
      ],
      "execution_count": 36,
      "outputs": []
    },
    {
      "cell_type": "code",
      "metadata": {
        "id": "-YkibxsDC8gL"
      },
      "source": [
        "#Gender = pd.get_dummies(hospital['gender'], drop_first=True)\r\n"
      ],
      "execution_count": null,
      "outputs": []
    },
    {
      "cell_type": "code",
      "metadata": {
        "id": "XEW1tL8JuyzP"
      },
      "source": [
        "sc = StandardScaler()\r\n",
        "X_train = sc.fit_transform(X_train)\r\n",
        "X_test = sc.transform(X_test)\r\n"
      ],
      "execution_count": 38,
      "outputs": []
    },
    {
      "cell_type": "code",
      "metadata": {
        "id": "bUxbrRrFrJiW"
      },
      "source": [
        "logmodel = LogisticRegression()"
      ],
      "execution_count": 40,
      "outputs": []
    },
    {
      "cell_type": "code",
      "metadata": {
        "id": "ZF_bAp3qrNZj"
      },
      "source": [
        "logmodel.fit(X_train, y_train)"
      ],
      "execution_count": null,
      "outputs": []
    },
    {
      "cell_type": "code",
      "metadata": {
        "id": "qZ3oABj_rz-P"
      },
      "source": [
        "predict = logmodel.predict(X_test)"
      ],
      "execution_count": 42,
      "outputs": []
    },
    {
      "cell_type": "markdown",
      "metadata": {
        "id": "y1z0c7MKv1BO"
      },
      "source": [
        "## Classification report"
      ]
    },
    {
      "cell_type": "code",
      "metadata": {
        "id": "eXghDQ0trtFc"
      },
      "source": [
        "print(classification_report(y_test,predict))"
      ],
      "execution_count": null,
      "outputs": []
    },
    {
      "cell_type": "markdown",
      "metadata": {
        "id": "Svbfjx98v76Z"
      },
      "source": [
        "## Confusion Matrix"
      ]
    },
    {
      "cell_type": "code",
      "metadata": {
        "id": "cIf1sg8Er5tL"
      },
      "source": [
        "from sklearn.metrics import confusion_matrix\r\n",
        "print(confusion_matrix(y_test, predict))"
      ],
      "execution_count": null,
      "outputs": []
    },
    {
      "cell_type": "code",
      "metadata": {
        "id": "NgBPQyLkvRs4"
      },
      "source": [
        "#plt.figure(figsize=(9,9))\r\n",
        "sns.heatmap(confusion_matrix(y_test, predict), annot=True, fmt=\".3f\", linewidths=.5, square = True, cmap = 'Blues_r');\r\n",
        "plt.ylabel('Actual label');\r\n",
        "plt.xlabel('Predicted label');\r\n",
        "all_sample_title = 'Accuracy Score: {0}'.format(logmodel.score(X_test, y_test))\r\n",
        "plt.title(all_sample_title, size = 15);"
      ],
      "execution_count": null,
      "outputs": []
    }
  ]
}