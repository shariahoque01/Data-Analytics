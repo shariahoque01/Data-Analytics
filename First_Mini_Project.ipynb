{
  "nbformat": 4,
  "nbformat_minor": 0,
  "metadata": {
    "colab": {
      "name": "First mini project.ipynb",
      "provenance": [],
      "collapsed_sections": [],
      "authorship_tag": "ABX9TyOGGwTFvY3ADZM+Q91pgBVN",
      "include_colab_link": true
    },
    "kernelspec": {
      "name": "python3",
      "display_name": "Python 3"
    }
  },
  "cells": [
    {
      "cell_type": "markdown",
      "metadata": {
        "id": "view-in-github",
        "colab_type": "text"
      },
      "source": [
        "<a href=\"https://colab.research.google.com/github/shariahoque01/data_analytics-/blob/main/First_Mini_Project.ipynb\" target=\"_parent\"><img src=\"https://colab.research.google.com/assets/colab-badge.svg\" alt=\"Open In Colab\"/></a>"
      ]
    },
    {
      "cell_type": "code",
      "metadata": {
        "colab": {
          "base_uri": "https://localhost:8080/",
          "height": 131
        },
        "id": "A4wsBQLG5b4O",
        "outputId": "d413b43e-82a9-4f28-ed20-3c8a408fea96"
      },
      "source": [
        "#Ask the user for a number. Depending on whether the number is even or odd, print out an\r\n",
        "#appropriate message to the user. Hint: how does an even / odd number react differently\r\n",
        "#when divided by 2?\r\n",
        "\r\n",
        "Bonus:\r\n",
        "\r\n",
        "#If the number is a multiple of 4, print out a different message.\r\n",
        "\r\n",
        "#Ask the user for two numbers: one number to check (call it num) and one number to divide\r\n",
        "#by (check). If check divides evenly into num, tell that to the user. If not, print a different\r\n",
        "#appropriate message.\r\n",
        "\r\n",
        "#Write a custom function for finding whether the number is even or odd and call it in your\r\n",
        "#main program code."
      ],
      "execution_count": 159,
      "outputs": [
        {
          "output_type": "error",
          "ename": "SyntaxError",
          "evalue": "ignored",
          "traceback": [
            "\u001b[0;36m  File \u001b[0;32m\"<ipython-input-159-a7a42208c8d9>\"\u001b[0;36m, line \u001b[0;32m5\u001b[0m\n\u001b[0;31m    Bonus:\u001b[0m\n\u001b[0m          ^\u001b[0m\n\u001b[0;31mSyntaxError\u001b[0m\u001b[0;31m:\u001b[0m invalid syntax\n"
          ]
        }
      ]
    },
    {
      "cell_type": "code",
      "metadata": {
        "colab": {
          "base_uri": "https://localhost:8080/"
        },
        "id": "WXW9Cu0tixJ2",
        "outputId": "ff24ff0b-0aa6-46f3-823e-b880adabc6ac"
      },
      "source": [
        "def numbers(a,b):\r\n",
        "  number = input(\"Please enter a number: \")\r\n",
        "  #odd or even\r\n",
        "  x= int(number)%2\r\n",
        "  y= int(number)%4\r\n",
        "  #def greeting_1()\r\n",
        "  if x == 0:\r\n",
        "    print(str(number) + \" is an \" + a +\" number\")\r\n",
        "  else:\r\n",
        "    print(str(number) + \" is an \"+ b +\" number\")\r\n",
        "    #If the number is a multiple of 4\r\n",
        "  if y == 0:\r\n",
        "     print(str(number) + \" is also a multiple of 4 \")\r\n",
        "  else:\r\n",
        "      print(str(number) + \" is not a multiple of 4 \")\r\n",
        "      #Ask the user for two numbers\r\n",
        "      num = input(\"Number to check \")\r\n",
        "      check = input(\"Number to divide by check \")\r\n",
        "  if int(num)% int(check) == 0:\r\n",
        "      print (str(check) + \" divides evenly into \" + str(num))\r\n",
        "  else:\r\n",
        "     print (str(check) + \" does not divide evenly into \" + str(num))\r\n",
        "numbers('even', 'odd')"
      ],
      "execution_count": 163,
      "outputs": [
        {
          "output_type": "stream",
          "text": [
            "Please enter a number: 90\n",
            "90 is an even number\n",
            "90 is not a multiple of 4 \n",
            "Number to check 09\n",
            "Number to divide by check 4\n",
            "4 does not divide evenly into 09\n"
          ],
          "name": "stdout"
        }
      ]
    }
  ]
}